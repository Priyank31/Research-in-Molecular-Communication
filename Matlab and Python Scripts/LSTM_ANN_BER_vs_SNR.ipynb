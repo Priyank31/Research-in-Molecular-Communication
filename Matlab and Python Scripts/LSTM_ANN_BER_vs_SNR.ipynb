{
  "nbformat": 4,
  "nbformat_minor": 0,
  "metadata": {
    "accelerator": "GPU",
    "colab": {
      "name": "WC_Project_Part2.ipynb",
      "provenance": [],
      "collapsed_sections": []
    },
    "kernelspec": {
      "display_name": "Python 3",
      "language": "python",
      "name": "python3"
    },
    "language_info": {
      "codemirror_mode": {
        "name": "ipython",
        "version": 3
      },
      "file_extension": ".py",
      "mimetype": "text/x-python",
      "name": "python",
      "nbconvert_exporter": "python",
      "pygments_lexer": "ipython3",
      "version": "3.6.6"
    }
  },
  "cells": [
    {
      "cell_type": "markdown",
      "metadata": {
        "id": "-SCM5tjfD07X"
      },
      "source": [
        "# Applications of ML in Wireless Communication"
      ]
    },
    {
      "cell_type": "markdown",
      "metadata": {
        "id": "QlF3UwUcmhbO"
      },
      "source": [
        "A novel spectrum sensing algorithm for cognitive radio."
      ]
    },
    {
      "cell_type": "code",
      "metadata": {
        "id": "d-lcZj7bQpQ0"
      },
      "source": [
        "# !pip install -U -q PyDrive\n",
        " \n",
        "# from pydrive.auth import GoogleAuth\n",
        "# from pydrive.drive import GoogleDrive\n",
        "# from google.colab import auth\n",
        "# from oauth2client.client import GoogleCredentials\n",
        " \n",
        "# 1. Authenticate and create the PyDrive client.\n",
        "# auth.authenticate_user()\n",
        "# gauth = GoogleAuth()\n",
        "# gauth.credentials = GoogleCredentials.get_application_default()\n",
        "# drive = GoogleDrive(gauth)\n",
        "\n",
        "# file_list = drive.ListFile({'q': \"'16WVvmPMSMSsO6MXpOc7JbP7NcVhquCbV' in parents and trashed=false\"}).GetList()\n",
        "# for file1 in file_list:\n",
        "#  print('title: %s, id: %s' % (file1['title'], file1['id']))\n",
        "\n",
        "# train_downloaded = drive.CreateFile({'id': '10jL51a4dyF6lkk5h7tSD1y2xK2zMh--b'})\n",
        "# train_downloaded.GetContentFile('536_5.dat')\n",
        "# train_downloaded = drive.CreateFile({'id': '1HoKo3-Ungo7SJDUZYf6oCmlQW5Vih1c4'})\n",
        "# train_downloaded.GetContentFile('959_45db')\n",
        "# train_downloaded = drive.CreateFile({'id': '1PSumEl3QRv06rVE2BDtQpcG3_sD5cGH2'})\n",
        "# train_downloaded.GetContentFile('1840')\n",
        "# train_downloaded = drive.CreateFile({'id': '1CVsbcNF6HuKNK0bD9kOku9IrFjc2pHd2'})\n",
        "# train_downloaded.GetContentFile('96_7_45db')"
      ],
      "execution_count": null,
      "outputs": []
    },
    {
      "cell_type": "markdown",
      "metadata": {
        "id": "O04BcHbRDNpS"
      },
      "source": [
        "# 1. Importing and Initializing data"
      ]
    },
    {
      "cell_type": "markdown",
      "metadata": {
        "id": "h1auQ1KzMRY-"
      },
      "source": [
        "The list of packages that will be used in the study: -\n",
        "\n",
        "1. numpy - For vectorized implementation\n",
        "2. math - Inbuilt support for mathematical operations\n",
        "3. time - measuring runtime\n",
        "4. keras - for LSTM model, training and testing"
      ]
    },
    {
      "cell_type": "code",
      "metadata": {
        "id": "8TQRcue3CbCI",
        "outputId": "3654dbb6-b0ed-4b72-81e2-6c0ab1956675",
        "colab": {
          "base_uri": "https://localhost:8080/"
        }
      },
      "source": [
        "import numpy as np\n",
        "import math\n",
        "from scipy.stats import norm\n",
        "import time\n",
        "import pandas as pd\n",
        "import statsmodels.api as sm\n",
        "from keras.layers import Dense, Dropout, LSTM, Embedding\n",
        "from keras.models import Sequential\n",
        "from matplotlib import pyplot as plt\n",
        "#import plotly.offline as py\n",
        "#import plotly.graph_objs as go\n",
        "#py.init_notebook_mode(connected=True)\n",
        "%matplotlib inline"
      ],
      "execution_count": null,
      "outputs": [
        {
          "output_type": "stream",
          "text": [
            "/usr/local/lib/python3.6/dist-packages/statsmodels/tools/_testing.py:19: FutureWarning: pandas.util.testing is deprecated. Use the functions in the public API at pandas.testing instead.\n",
            "  import pandas.util.testing as tm\n"
          ],
          "name": "stderr"
        }
      ]
    },
    {
      "cell_type": "markdown",
      "metadata": {
        "id": "WFkwhVvQNphx"
      },
      "source": [
        "Data for all he four technologies are loaded into their respective vector names. They are all reshaped to convert them from Rank 1 arrays to proper Numpy vectors."
      ]
    },
    {
      "cell_type": "markdown",
      "metadata": {
        "id": "j5l00dPsiCGM"
      },
      "source": [
        "# 2.Retreiving data"
      ]
    },
    {
      "cell_type": "markdown",
      "metadata": {
        "id": "e21wXUnxiIwn"
      },
      "source": [
        "Retreiving data from the files for all the four wireless technologies."
      ]
    },
    {
      "cell_type": "code",
      "metadata": {
        "id": "6_4N8Q394Ing",
        "outputId": "6442c6df-7880-4243-807a-3d298c4d37d4",
        "colab": {
          "resources": {
            "http://localhost:8080/nbextensions/google.colab/files.js": {
              "data": "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",
              "ok": true,
              "headers": [
                [
                  "content-type",
                  "application/javascript"
                ]
              ],
              "status": 200,
              "status_text": "OK"
            }
          },
          "base_uri": "https://localhost:8080/",
          "height": 75
        }
      },
      "source": [
        "from google.colab import files\n",
        "uploads = files.upload()"
      ],
      "execution_count": null,
      "outputs": [
        {
          "output_type": "display_data",
          "data": {
            "text/html": [
              "\n",
              "     <input type=\"file\" id=\"files-fee4fba9-3c45-4db6-86ce-61adc4eb43eb\" name=\"files[]\" multiple disabled\n",
              "        style=\"border:none\" />\n",
              "     <output id=\"result-fee4fba9-3c45-4db6-86ce-61adc4eb43eb\">\n",
              "      Upload widget is only available when the cell has been executed in the\n",
              "      current browser session. Please rerun this cell to enable.\n",
              "      </output>\n",
              "      <script src=\"/nbextensions/google.colab/files.js\"></script> "
            ],
            "text/plain": [
              "<IPython.core.display.HTML object>"
            ]
          },
          "metadata": {
            "tags": []
          }
        },
        {
          "output_type": "stream",
          "text": [
            "Saving 96_7_20db to 96_7_20db\n"
          ],
          "name": "stdout"
        }
      ]
    },
    {
      "cell_type": "code",
      "metadata": {
        "id": "68mM0GDTWBcb",
        "outputId": "9bd20fa7-47c4-48a7-aa86-3bb71736518f",
        "colab": {
          "base_uri": "https://localhost:8080/"
        }
      },
      "source": [
        "# Importing data from file (96.7 MHz)\n",
        "FM = np.fromfile('96_7_20db', dtype=np.float32)\n",
        "\n",
        "# Reshaping to convert to a proper NUMPY vector\n",
        "FM = np.reshape(FM, (FM.shape[0], 1))\n",
        "\n",
        "# Shape of FM signal vector\n",
        "print(\"Size of FM: \" + str(FM.shape))\n",
        "\n",
        "# # Importing data from file (536.5 MHz)\n",
        "# UHF = np.fromfile('536_5.dat', dtype=np.float32)\n",
        "\n",
        "# # Reshaping to convert to a proper NUMPY vector\n",
        "# UHF = np.reshape(UHF, (UHF.shape[0], 1))\n",
        "\n",
        "# # Shape of UHF signal vector\n",
        "# print(\"Size of UHF: \" + str(UHF.shape))\n",
        "\n",
        "# # Importing data from file (959 MHz)\n",
        "# GSM = np.fromfile('959_45db', dtype=np.float32)\n",
        "\n",
        "# # Reshaping to convert to a proper NUMPY vector\n",
        "# GSM = np.reshape(GSM, (GSM.shape[0], 1))\n",
        "\n",
        "# # Shape of GSM signal vector\n",
        "# print(\"Size of GSM: \" + str(GSM.shape))\n",
        "\n",
        "# # Importing data from file (1840 MHz)\n",
        "# DCS = np.fromfile('1840', dtype=np.float32)\n",
        "\n",
        "# # Reshaping to convert to a proper NUMPY vector\n",
        "# DCS = np.reshape(DCS, (DCS.shape[0], 1))\n",
        "\n",
        "# # Shape of DCS signal vector\n",
        "# print(\"Size of DCS: \" + str(DCS.shape))"
      ],
      "execution_count": null,
      "outputs": [
        {
          "output_type": "stream",
          "text": [
            "Size of FM: (2971649, 1)\n"
          ],
          "name": "stdout"
        }
      ]
    },
    {
      "cell_type": "markdown",
      "metadata": {
        "id": "ssWTcXDnptCo"
      },
      "source": [
        "# 3. Creating NUMPY equivalent for bandpower function"
      ]
    },
    {
      "cell_type": "markdown",
      "metadata": {
        "id": "psMi-MZGOSgU"
      },
      "source": [
        "A MATLAB equivalent for bandpower function is created."
      ]
    },
    {
      "cell_type": "code",
      "metadata": {
        "id": "vUm25JALpO2h"
      },
      "source": [
        "def bandpower(signal):\n",
        "  return np.mean(signal ** 2)\n",
        "  "
      ],
      "execution_count": null,
      "outputs": []
    },
    {
      "cell_type": "code",
      "metadata": {
        "id": "TPhaejxqrtTa",
        "outputId": "b74a3720-0f65-4a43-f250-ecab80e75b56",
        "colab": {
          "base_uri": "https://localhost:8080/"
        }
      },
      "source": [
        "bandpower(FM)"
      ],
      "execution_count": null,
      "outputs": [
        {
          "output_type": "execute_result",
          "data": {
            "text/plain": [
              "0.08850595"
            ]
          },
          "metadata": {
            "tags": []
          },
          "execution_count": 5
        }
      ]
    },
    {
      "cell_type": "markdown",
      "metadata": {
        "id": "yy1GypyCpqtT"
      },
      "source": [
        "# 4. Creating NUMPY equivalent for AWGN (Additive White Gaussian Noise) function"
      ]
    },
    {
      "cell_type": "markdown",
      "metadata": {
        "id": "BG8yHBNTxPnm"
      },
      "source": [
        "First of all, the SNR (Signal-to-noise ratio) is converted from decibel scale to linear scale using the given formula:\n",
        "\n",
        "$$\\text{SNR}_{\\text{linear}} = 10 ^ {\\frac{\\text{SNR}_{\\text{dB}}}{10} }$$\n",
        "\n",
        "\n",
        "The variance of standard the signal is adjusted using the formula given below:\n",
        "\n",
        "$$\\text{SNR}_{\\text{linear}} = \\frac{Power(signal)}{Var(noise)}\\\\\n",
        "\\implies \\boxed{Power(signal) = Var(noise) \\times \\text{SNR}_{\\text{linear}}}$$"
      ]
    },
    {
      "cell_type": "code",
      "metadata": {
        "id": "UiQO0BKGKlHK"
      },
      "source": [
        "def awgn(signal, desired_snr):\n",
        "  \n",
        "  # Converting the SNR from dB scale to linear scale\n",
        "  snr_linear = math.pow(10, desired_snr / 10)\n",
        "  \n",
        "  # Standard normally distributed noise\n",
        "  noise = np.random.randn(signal.shape[0], 1)\n",
        "  \n",
        "  # Using the boxed formula\n",
        "  var_signal = bandpower(noise) * snr_linear\n",
        "  \n",
        "  # Normalizing the signal to have the given variance\n",
        "  normalized_signal = math.sqrt(var_signal) * (signal / math.sqrt(bandpower(signal)))\n",
        "  \n",
        "  print(\"SNR = \" + str(10 * math.log10(bandpower(normalized_signal) / bandpower(noise))))\n",
        "  \n",
        "  return normalized_signal + noise"
      ],
      "execution_count": null,
      "outputs": []
    },
    {
      "cell_type": "markdown",
      "metadata": {
        "id": "At7izpjzNjPq"
      },
      "source": [
        "# 5. Filtering the data"
      ]
    },
    {
      "cell_type": "markdown",
      "metadata": {
        "id": "hVvL7sX0_lMw"
      },
      "source": [
        "The datasets are filtered to remove any transient peaks. Values between $10^{-7}$ and $1$ are retained, others are discarded."
      ]
    },
    {
      "cell_type": "code",
      "metadata": {
        "id": "BQdZ2vI69uvT",
        "outputId": "dc907cb2-04ef-4665-8490-3253199a65b3",
        "colab": {
          "base_uri": "https://localhost:8080/"
        }
      },
      "source": [
        "# Datasets are filtered to contain values between 10 ^ -7 and 1\n",
        "\n",
        "FM = FM[np.logical_and(FM > math.pow(10, -7), FM < 1)]\n",
        "FM = FM.reshape(FM.shape[0], 1)\n",
        "\n",
        "# UHF = UHF[np.logical_and(UHF > math.pow(10, -7), UHF < 1)]\n",
        "# UHF = UHF.reshape(UHF.shape[0], 1)\n",
        "\n",
        "# GSM = GSM[np.logical_and(GSM > math.pow(10, -7), GSM < 1)]\n",
        "# GSM = GSM.reshape(GSM.shape[0], 1)\n",
        "\n",
        "# DCS = DCS[np.logical_and(DCS > math.pow(10, -7), DCS < 1)]\n",
        "# DCS = DCS.reshape(DCS.shape[0], 1)\n",
        "\n",
        "# Shape of FM signal vector\n",
        "print(\"Size of FM: \" + str(FM.shape))\n",
        "\n",
        "# # Shape of UHF signal vector\n",
        "# print(\"Size of UHF: \" + str(UHF.shape))\n",
        "\n",
        "# # Shape of GSM signal vector\n",
        "# print(\"Size of GSM: \" + str(GSM.shape))\n",
        "\n",
        "# # Shape of DCS signal vector\n",
        "# print(\"Size of DCS: \" + str(DCS.shape))\n",
        "\n",
        "# print(awgn(GSM[0:100000], 4).shape)"
      ],
      "execution_count": null,
      "outputs": [
        {
          "output_type": "stream",
          "text": [
            "Size of FM: (2971649, 1)\n"
          ],
          "name": "stdout"
        }
      ]
    },
    {
      "cell_type": "markdown",
      "metadata": {
        "id": "1gBeiPhiBl3W"
      },
      "source": [
        "# 6. Making the dataset ready"
      ]
    },
    {
      "cell_type": "markdown",
      "metadata": {
        "id": "GIoGruYgCG58"
      },
      "source": [
        "The following will create a dataset for the signal with a given SNR, number of samples and size of the samples in the sensing event. Dataset is constructed based on Energy values: -\n",
        "\n",
        "Energy of the sensing event $E$ is given by,\n",
        "\n",
        "$$E = \\sum_{i = 1} ^{N} \\big|y[n]\\big|^{2} $$"
      ]
    },
    {
      "cell_type": "code",
      "metadata": {
        "id": "ilH_XSQ-CEfU"
      },
      "source": [
        "def create_dataset(signal, desired_snr, samples, sample_size):\n",
        "  \n",
        "  # Creating the signal with desired SNR\n",
        "  snr_signal = awgn(signal[0:samples * sample_size], desired_snr)\n",
        "  \n",
        "  # Allocating zeros to the dataset\n",
        "  X = np.zeros((samples, 1))\n",
        "  \n",
        "  for i in range(0, samples):\n",
        "    \n",
        "    # Extracting the sample based on sample size\n",
        "    sampled_signal = snr_signal[i * sample_size : (i + 1) * sample_size]\n",
        "    \n",
        "    # Sorting the sampled signal\n",
        "    sampled_signal = np.sort(sampled_signal, axis=0)\n",
        "    \n",
        "    # Energy detection\n",
        "    E = np.sum(sampled_signal ** 2)\n",
        "    \n",
        "    # Assigning values to the dataset\n",
        "    X[i][0] = E\n",
        "  \n",
        "  return X"
      ],
      "execution_count": null,
      "outputs": []
    },
    {
      "cell_type": "code",
      "metadata": {
        "id": "cDZk1DcBJ_LI",
        "outputId": "be428784-9c9b-42d8-b59d-5a1098f284af",
        "colab": {
          "base_uri": "https://localhost:8080/"
        }
      },
      "source": [
        "a = time.time()\n",
        "print(create_dataset(FM[50000:], 4, 15000, 100).shape)\n",
        "b = time.time()\n",
        "\n",
        "# Printing the time taken for execution\n",
        "print(b - a)"
      ],
      "execution_count": null,
      "outputs": [
        {
          "output_type": "stream",
          "text": [
            "SNR = 4.00000125402898\n",
            "(15000, 1)\n",
            "0.2895348072052002\n"
          ],
          "name": "stdout"
        }
      ]
    },
    {
      "cell_type": "markdown",
      "metadata": {
        "id": "n0KSmaihiG-N"
      },
      "source": [
        "Making the dataset for all the SNRs in the range -20 till 4 with step size of 2. The following function will take a range of SNRs as input and will output the dataset. Other inputs are the sample size, the signal, and, the number of samples per SNR."
      ]
    },
    {
      "cell_type": "code",
      "metadata": {
        "id": "DgeNvokTUvqt"
      },
      "source": [
        "def final_dataset(signal, snr_range, samples_per_snr, sample_size):\n",
        "  X = {}\n",
        "  \n",
        "  for snr in snr_range:\n",
        "    # Creating dataset for the given SNR\n",
        "    X_snr = create_dataset(signal, snr, samples_per_snr, sample_size)\n",
        "    \n",
        "    # Indexing within the final dataset matrix X\n",
        "    X[snr] = X_snr\n",
        "  \n",
        "  return X"
      ],
      "execution_count": null,
      "outputs": []
    },
    {
      "cell_type": "code",
      "metadata": {
        "id": "EomfBjFpvmKc",
        "outputId": "4bc062c6-e3ea-4382-f261-e02694a18b11",
        "colab": {
          "base_uri": "https://localhost:8080/"
        }
      },
      "source": [
        "a = time.time()\n",
        "\n",
        "# FM\n",
        "X_FM = {**final_dataset(FM[100000:], range(-20, -4, 2), 5000, 100), **final_dataset(FM[100000:], range(-4, 6, 2), 12000, 100)}\n",
        "X_test_FM = final_dataset(FM[300000:], range(-20, 6, 2), 5129, 100)\n",
        "b = time.time()\n",
        "\n",
        "# Printing the time taken for execution\n",
        "print(\"Time taken :- \" + str(b - a))"
      ],
      "execution_count": null,
      "outputs": [
        {
          "output_type": "stream",
          "text": [
            "SNR = -20.000001333538464\n",
            "SNR = -18.000000741791506\n",
            "SNR = -15.999999694125083\n",
            "SNR = -14.000000319012639\n",
            "SNR = -12.000000996730673\n",
            "SNR = -10.000000357665403\n",
            "SNR = -8.000001295189422\n",
            "SNR = -6.000000741068545\n",
            "SNR = -3.9999994920335817\n",
            "SNR = -1.9999998969102293\n",
            "SNR = 8.765949577693911e-07\n",
            "SNR = 2.0000007722775077\n",
            "SNR = 3.9999993993465157\n",
            "SNR = -19.99999958329951\n",
            "SNR = -17.999999903800486\n",
            "SNR = -15.999999082669405\n",
            "SNR = -13.999999223175383\n",
            "SNR = -11.99999855124716\n",
            "SNR = -9.999998640080442\n",
            "SNR = -7.999998598203623\n",
            "SNR = -5.99999985765999\n",
            "SNR = -3.999998389881654\n",
            "SNR = -1.9999992885737459\n",
            "SNR = 1.5062243074623643e-07\n",
            "SNR = 2.0000011805605435\n",
            "SNR = 4.000000462498317\n",
            "Time taken :- 3.0749876499176025\n"
          ],
          "name": "stdout"
        }
      ]
    },
    {
      "cell_type": "markdown",
      "metadata": {
        "id": "mqF-nzEnmVVb"
      },
      "source": [
        "# 7. Generating White noise sequence"
      ]
    },
    {
      "cell_type": "markdown",
      "metadata": {
        "id": "ALzRysIBmpqP"
      },
      "source": [
        "White noise of variance 1 is generated and is labelled as 0."
      ]
    },
    {
      "cell_type": "code",
      "metadata": {
        "id": "4hIilooqpOH3"
      },
      "source": [
        "def create_noise_sequence(samples, sample_size):\n",
        "  \n",
        "  # Creating white noise sequence of variance 1\n",
        "  noise = np.random.randn(samples * sample_size, 1)\n",
        "  \n",
        "  # Allocating zeros to the dataset\n",
        "  X = np.zeros((samples, 1))\n",
        "  \n",
        "  for i in range(0, samples):\n",
        "    \n",
        "    # Extracting the sample based on sample size\n",
        "    sampled_signal = noise[i * sample_size : (i + 1) * sample_size]\n",
        "    \n",
        "    # Sorting the sampled signal\n",
        "    sampled_signal = np.sort(sampled_signal, axis=0)\n",
        "    \n",
        "    # Energy detection\n",
        "    E = np.sum(sampled_signal ** 2)\n",
        "    \n",
        "    # Assigning values to the dataset\n",
        "    X[i][0] = E\n",
        "  \n",
        "  return X"
      ],
      "execution_count": null,
      "outputs": []
    },
    {
      "cell_type": "code",
      "metadata": {
        "id": "I9XXv_OHqKQ1",
        "outputId": "3dbdaec9-0843-44d2-e870-593a3f077cfa",
        "colab": {
          "base_uri": "https://localhost:8080/"
        }
      },
      "source": [
        "a = time.time()\n",
        "X_noise = create_noise_sequence(100000, 100)\n",
        "b = time.time()\n",
        "\n",
        "print(\"Time taken = \" + str(b - a))\n",
        "\n",
        "print(X_noise.shape)"
      ],
      "execution_count": null,
      "outputs": [
        {
          "output_type": "stream",
          "text": [
            "Time taken = 1.7708251476287842\n",
            "(100000, 1)\n"
          ],
          "name": "stdout"
        }
      ]
    },
    {
      "cell_type": "markdown",
      "metadata": {
        "id": "eFRnTiAztUEw"
      },
      "source": [
        "# **8. Autocorrelation Function** "
      ]
    },
    {
      "cell_type": "markdown",
      "metadata": {
        "id": "dbsAY5CpGyXe"
      },
      "source": [
        "The autocorrelation function for energy values is plotted for the wireless technology FM."
      ]
    },
    {
      "cell_type": "code",
      "metadata": {
        "id": "sNgqzI39tYe2"
      },
      "source": [
        "# for snr in range(-20, 6, 2):\n",
        "#   plt.figure(figsize=(15,7))\n",
        "#   ax = plt.subplot(211)\n",
        "\n",
        "#   x = X_UHF[snr][:, 0]\n",
        "#   x = x.reshape(x.shape[0], 1)\n",
        "\n",
        "#   sm.graphics.tsa.plot_acf(x, lags=50, ax=ax)\n",
        "#   plt.title(\"Autocorrelation in energy values at SNR = \" + str(snr))\n",
        "#   # ax = plt.subplot(212)\n",
        "#   # sm.graphics.tsa.plot_pacf(x, lags=50, ax=ax)\n",
        "#   # plt.title(\"Partial Autocorrelation in energy values at SNR = \" + str(snr))\n",
        "#   # plt.tight_layout()\n",
        "#   plt.show()"
      ],
      "execution_count": null,
      "outputs": []
    },
    {
      "cell_type": "markdown",
      "metadata": {
        "id": "_odr-8KVRJ7B"
      },
      "source": [
        "# **9. DataSet with Lookback for ANN**\n",
        "\n",
        "> Indented block\n",
        "\n"
      ]
    },
    {
      "cell_type": "markdown",
      "metadata": {
        "id": "h3m9Qo97RRWM"
      },
      "source": [
        "The output of an Recurrent Neural network depends on the previous training examples. Here, we will define a lookback to determine how many previous examples should the RNN look into to predict the output."
      ]
    },
    {
      "cell_type": "code",
      "metadata": {
        "id": "2qFiKXvXRqC3"
      },
      "source": [
        "# Function for Chaning the dataset for look back\n",
        "def create_look_back(X, look_back=1):\n",
        "  \n",
        "  # Look back dataset is initialized to be empty\n",
        "  look_back_X = []\n",
        "  \n",
        "  for i in range(len(X) - look_back + 1):\n",
        "    # Extracting an example from the dataset\n",
        "    a = X[i:(i + look_back), :]\n",
        "    \n",
        "    a = a.flatten() # (For flattening)\n",
        "    \n",
        "    # Appending to the dataset\n",
        "    look_back_X.append(a)\n",
        "  \n",
        "  look_back_Y = []\n",
        "    \n",
        "  # Returning in numpy's array format\n",
        "  return np.array(look_back_X)"
      ],
      "execution_count": null,
      "outputs": []
    },
    {
      "cell_type": "markdown",
      "metadata": {
        "id": "vmynJhmI5-h8"
      },
      "source": [
        "The following function will insert look backs into our dataset for all the SNRs."
      ]
    },
    {
      "cell_type": "code",
      "metadata": {
        "id": "BbrTVKx1cqAz"
      },
      "source": [
        "def dataset_look_back(X_tech, snr_range, look_back):\n",
        "  X_tech_lb = {}\n",
        "  \n",
        "  # Look backs for all SNRs\n",
        "  for snr in snr_range:\n",
        "    X_tech_lb[snr] = create_look_back(X_tech[snr], look_back)\n",
        "  \n",
        "  return X_tech_lb"
      ],
      "execution_count": null,
      "outputs": []
    },
    {
      "cell_type": "code",
      "metadata": {
        "id": "deysOHwY6JCZ",
        "outputId": "a421f883-61da-4839-ef70-3023eb5503c0",
        "colab": {
          "base_uri": "https://localhost:8080/"
        }
      },
      "source": [
        "look_back = 2\n",
        "\n",
        "X_FM_lb = dataset_look_back(X_FM, range(-20, 6, 2), look_back)\n",
        "print(X_FM_lb[-20].shape)\n",
        "\n",
        "X_noise_lb = create_look_back(X_noise, look_back)\n",
        "print(X_noise_lb.shape)\n",
        "\n",
        "X = X_FM_lb[-20]\n",
        "y = []\n",
        "\n",
        "for snr in range(-18, 6, 2):\n",
        "  X = np.concatenate((X, X_FM_lb[snr]), axis=0)\n",
        "\n",
        "y = np.ones((X.shape[0], 1))\n",
        " \n",
        "print(X.shape)\n",
        "print(X_noise_lb.shape)\n",
        "X = np.concatenate((X, X_noise_lb), axis=0)\n",
        "\n",
        "y = np.concatenate((y, np.zeros((X_noise_lb.shape[0], 1))))\n",
        "#Xtrain, Xtest, Ytrain and Ytest (in matlab as .mat files)"
      ],
      "execution_count": null,
      "outputs": [
        {
          "output_type": "stream",
          "text": [
            "(4999, 2)\n",
            "(99999, 2)\n",
            "(99987, 2)\n",
            "(99999, 2)\n"
          ],
          "name": "stdout"
        }
      ]
    },
    {
      "cell_type": "markdown",
      "metadata": {
        "id": "K5G26cKoIDfb"
      },
      "source": [
        "# 10. Creating the ANN model"
      ]
    },
    {
      "cell_type": "markdown",
      "metadata": {
        "id": "ZpnYswAcIL9F"
      },
      "source": [
        "Defining a sequential model with two stacked LSTM layers with a single Dense output layer"
      ]
    },
    {
      "cell_type": "code",
      "metadata": {
        "id": "GOVZtargIGqd"
      },
      "source": [
        "seed = 9\n",
        "np.random.seed(seed)\n",
        "#Loading the data, here It's a feature data, which contains 4 features as mentioned in papers \n",
        "\n",
        "#ANN Model \n",
        "# create model\n",
        "model = Sequential() # This means it's sequential model, which is from one direction to another in sequence \n",
        "model.add(Dense(7, input_dim=2, kernel_initializer='uniform', activation='relu'))#First layer with 20 nodes and as we have 4 features so input_dim would be 4, relu suits well for binary classification so I have used it \n",
        "#model.add(Dense(10, init='uniform', activation='relu')) #You can add as many hidden layer you want, but with time complexity \n",
        "#model.add(Dense(5,init='uniform', activation='relu'))\n",
        "model.add(Dense(1, kernel_initializer='uniform', activation='sigmoid')) #Output layer\n",
        "\n",
        "# Compile model\n",
        "#This function you have to explore in case you want to do the mathematic analysis\n",
        "model.compile(loss='binary_crossentropy', optimizer='adam', metrics=['accuracy'])"
      ],
      "execution_count": null,
      "outputs": []
    },
    {
      "cell_type": "markdown",
      "metadata": {
        "id": "44IdaHMvKG5N"
      },
      "source": [
        "# 11. Training the ANN model"
      ]
    },
    {
      "cell_type": "code",
      "metadata": {
        "id": "0RNF93bmBDKO"
      },
      "source": [
        "X=X.reshape(199986,2,1)\n",
        "X_ANN = X\n",
        "X_ANN=X_ANN.reshape(199986,2)"
      ],
      "execution_count": null,
      "outputs": []
    },
    {
      "cell_type": "code",
      "metadata": {
        "id": "Bg3VPraVKFUO",
        "outputId": "f51caf41-456a-44d2-b02e-9d6d06dec315",
        "colab": {
          "base_uri": "https://localhost:8080/"
        }
      },
      "source": [
        "# Fit the model\n",
        "#Training and batch size\n",
        "model.fit(X_ANN, y, epochs=20, batch_size=150,verbose=2)\n",
        "\n",
        "#Evaluate the model\n",
        "scores = model.evaluate(X_ANN, y)\n",
        "print(\"\\n%s: %.2f%%\" % (model.metrics_names[1], scores[1]*100))\n"
      ],
      "execution_count": null,
      "outputs": [
        {
          "output_type": "stream",
          "text": [
            "Epoch 1/20\n",
            "1334/1334 - 3s - loss: 0.5923 - accuracy: 0.6324\n",
            "Epoch 2/20\n",
            "1334/1334 - 3s - loss: 0.4702 - accuracy: 0.8010\n",
            "Epoch 3/20\n",
            "1334/1334 - 3s - loss: 0.4328 - accuracy: 0.8020\n",
            "Epoch 4/20\n",
            "1334/1334 - 3s - loss: 0.4236 - accuracy: 0.8028\n",
            "Epoch 5/20\n",
            "1334/1334 - 3s - loss: 0.4210 - accuracy: 0.8023\n",
            "Epoch 6/20\n",
            "1334/1334 - 3s - loss: 0.4207 - accuracy: 0.8016\n",
            "Epoch 7/20\n",
            "1334/1334 - 3s - loss: 0.4197 - accuracy: 0.8018\n",
            "Epoch 8/20\n",
            "1334/1334 - 3s - loss: 0.4206 - accuracy: 0.8017\n",
            "Epoch 9/20\n",
            "1334/1334 - 3s - loss: 0.4197 - accuracy: 0.8020\n",
            "Epoch 10/20\n",
            "1334/1334 - 3s - loss: 0.4195 - accuracy: 0.8020\n",
            "Epoch 11/20\n",
            "1334/1334 - 3s - loss: 0.4197 - accuracy: 0.8014\n",
            "Epoch 12/20\n",
            "1334/1334 - 3s - loss: 0.4197 - accuracy: 0.8020\n",
            "Epoch 13/20\n",
            "1334/1334 - 3s - loss: 0.4205 - accuracy: 0.8011\n",
            "Epoch 14/20\n",
            "1334/1334 - 3s - loss: 0.4193 - accuracy: 0.8021\n",
            "Epoch 15/20\n",
            "1334/1334 - 3s - loss: 0.4200 - accuracy: 0.8017\n",
            "Epoch 16/20\n",
            "1334/1334 - 3s - loss: 0.4199 - accuracy: 0.8012\n",
            "Epoch 17/20\n",
            "1334/1334 - 3s - loss: 0.4196 - accuracy: 0.8016\n",
            "Epoch 18/20\n",
            "1334/1334 - 3s - loss: 0.4193 - accuracy: 0.8023\n",
            "Epoch 19/20\n",
            "1334/1334 - 3s - loss: 0.4201 - accuracy: 0.8015\n",
            "Epoch 20/20\n",
            "1334/1334 - 3s - loss: 0.4201 - accuracy: 0.8011\n",
            "6250/6250 [==============================] - 10s 2ms/step - loss: 0.4171 - accuracy: 0.8035\n",
            "\n",
            "accuracy: 80.35%\n"
          ],
          "name": "stdout"
        }
      ]
    },
    {
      "cell_type": "code",
      "metadata": {
        "id": "0sjgBgDL-Qc2",
        "outputId": "dc6e77f7-5cfc-4deb-8fda-db050483f7ee",
        "colab": {
          "base_uri": "https://localhost:8080/",
          "height": 960
        }
      },
      "source": [
        "pd_FM = {}\n",
        "\n",
        "for snr in range(-20, 6, 2):\n",
        "  y_snr = np.ones((X_FM_lb[snr].shape[0], 1))\n",
        "  scores = model.evaluate(X_FM_lb[snr], y_snr)\n",
        "  print(\"At SNR = \" + str(snr) + \"\\n%s: %.2f%%\" % (model.metrics_names[1], scores[1]*100))\n",
        "  pd_FM[snr] = scores[1]\n",
        "  \n",
        "plt.plot(range(-20, 6, 2), list(pd_FM.values()))\n"
      ],
      "execution_count": null,
      "outputs": [
        {
          "output_type": "stream",
          "text": [
            "157/157 [==============================] - 0s 2ms/step - loss: 1.3654 - accuracy: 0.1116\n",
            "At SNR = -20\n",
            "accuracy: 11.16%\n",
            "157/157 [==============================] - 0s 2ms/step - loss: 1.3317 - accuracy: 0.1312\n",
            "At SNR = -18\n",
            "accuracy: 13.12%\n",
            "157/157 [==============================] - 0s 1ms/step - loss: 1.2857 - accuracy: 0.1412\n",
            "At SNR = -16\n",
            "accuracy: 14.12%\n",
            "157/157 [==============================] - 0s 2ms/step - loss: 1.2203 - accuracy: 0.1812\n",
            "At SNR = -14\n",
            "accuracy: 18.12%\n",
            "157/157 [==============================] - 0s 2ms/step - loss: 1.0721 - accuracy: 0.2625\n",
            "At SNR = -12\n",
            "accuracy: 26.25%\n",
            "157/157 [==============================] - 0s 2ms/step - loss: 0.9280 - accuracy: 0.3809\n",
            "At SNR = -10\n",
            "accuracy: 38.09%\n",
            "157/157 [==============================] - 0s 2ms/step - loss: 0.7058 - accuracy: 0.5803\n",
            "At SNR = -8\n",
            "accuracy: 58.03%\n",
            "157/157 [==============================] - 0s 2ms/step - loss: 0.4567 - accuracy: 0.7884\n",
            "At SNR = -6\n",
            "accuracy: 78.84%\n",
            "375/375 [==============================] - 1s 2ms/step - loss: 0.2453 - accuracy: 0.9020\n",
            "At SNR = -4\n",
            "accuracy: 90.20%\n",
            "375/375 [==============================] - 1s 2ms/step - loss: 0.1194 - accuracy: 0.9442\n",
            "At SNR = -2\n",
            "accuracy: 94.42%\n",
            "375/375 [==============================] - 1s 2ms/step - loss: 0.0661 - accuracy: 0.9663\n",
            "At SNR = 0\n",
            "accuracy: 96.63%\n",
            "375/375 [==============================] - 1s 2ms/step - loss: 0.0354 - accuracy: 0.9836\n",
            "At SNR = 2\n",
            "accuracy: 98.36%\n",
            "375/375 [==============================] - 1s 2ms/step - loss: 0.0192 - accuracy: 0.9922\n",
            "At SNR = 4\n",
            "accuracy: 99.22%\n"
          ],
          "name": "stdout"
        },
        {
          "output_type": "execute_result",
          "data": {
            "text/plain": [
              "[<matplotlib.lines.Line2D at 0x7f6b807bc748>]"
            ]
          },
          "metadata": {
            "tags": []
          },
          "execution_count": 20
        },
        {
          "output_type": "display_data",
          "data": {
            "image/png": "[encoded data removed]",
            "text/plain": [
              "<Figure size 432x288 with 1 Axes>"
            ]
          },
          "metadata": {
            "tags": [],
            "needs_background": "light"
          }
        }
      ]
    },
    {
      "cell_type": "markdown",
      "metadata": {
        "id": "3DonyUIkEXgA"
      },
      "source": [
        "**LSTM Model**"
      ]
    },
    {
      "cell_type": "code",
      "metadata": {
        "id": "TQsPMkzNBg7v"
      },
      "source": [
        "X_FM_lb[-20] = X_FM_lb[-20].reshape(4999,2,1)\n",
        "X_FM_lb[-18] = X_FM_lb[-18].reshape(4999,2,1)\n",
        "X_FM_lb[-16] = X_FM_lb[-16].reshape(4999,2,1)\n",
        "X_FM_lb[-14] = X_FM_lb[-14].reshape(4999,2,1)\n",
        "X_FM_lb[-12] = X_FM_lb[-12].reshape(4999,2,1)\n",
        "X_FM_lb[-10] = X_FM_lb[-10].reshape(4999,2,1)\n",
        "X_FM_lb[-8] = X_FM_lb[-8].reshape(4999,2,1)\n",
        "X_FM_lb[-6] = X_FM_lb[-6].reshape(4999,2,1)\n",
        "X_FM_lb[-4] = X_FM_lb[-4].reshape(11999,2,1)\n",
        "X_FM_lb[-2] = X_FM_lb[-2].reshape(11999,2,1)\n",
        "X_FM_lb[0] = X_FM_lb[0].reshape(11999,2,1)\n",
        "X_FM_lb[2] = X_FM_lb[2].reshape(11999,2,1)\n",
        "X_FM_lb[4] = X_FM_lb[4].reshape(11999,2,1)"
      ],
      "execution_count": null,
      "outputs": []
    },
    {
      "cell_type": "code",
      "metadata": {
        "id": "61XhUyvy6LKr",
        "outputId": "392ced97-5e9c-4dad-9284-29650e919f01",
        "colab": {
          "base_uri": "https://localhost:8080/"
        }
      },
      "source": [
        "seed = 9\n",
        "np.random.seed(seed)\n",
        "#Loading the data, here It's a feature data, which contains 4 features as mentioned in papers \n",
        "\n",
        "#ANN Model \n",
        "# create model\n",
        "model1 = Sequential() # This means it's sequential model, which is from one direction to another in sequence \n",
        "model1.add(LSTM(7, input_shape=(2,1), kernel_initializer='uniform', activation='sigmoid'))#First layer with 20 nodes and as we have 4 features so input_dim would be 4, relu suits well for binary classification so I have used it \n",
        "#model.add(Dense(10, init='uniform', activation='relu')) #You can add asX_train many hidden layer you want, but with time complexity \n",
        "#model.add(Dense(5,init='uniform', activation='relu'))\n",
        "model1.add(Dense(1, kernel_initializer='uniform', activation='sigmoid')) #Output layer\n",
        "\n",
        "# Compile model\n",
        "#This function you have to explore in case you want to do the mathematic analysis\n",
        "model1.compile(loss='binary_crossentropy', optimizer='adam', metrics=['accuracy'])"
      ],
      "execution_count": null,
      "outputs": [
        {
          "output_type": "stream",
          "text": [
            "WARNING:tensorflow:Layer lstm will not use cuDNN kernel since it doesn't meet the cuDNN kernel criteria. It will use generic GPU kernel as fallback when running on GPU\n"
          ],
          "name": "stdout"
        }
      ]
    },
    {
      "cell_type": "code",
      "metadata": {
        "id": "efICZ1JJ2H-S",
        "outputId": "c58b4d64-1f48-4082-f2b5-e5ffdeb1da80",
        "colab": {
          "base_uri": "https://localhost:8080/"
        }
      },
      "source": [
        "model1.summary()"
      ],
      "execution_count": null,
      "outputs": [
        {
          "output_type": "stream",
          "text": [
            "Model: \"sequential_1\"\n",
            "_________________________________________________________________\n",
            "Layer (type)                 Output Shape              Param #   \n",
            "=================================================================\n",
            "lstm (LSTM)                  (None, 7)                 252       \n",
            "_________________________________________________________________\n",
            "dense_2 (Dense)              (None, 1)                 8         \n",
            "=================================================================\n",
            "Total params: 260\n",
            "Trainable params: 260\n",
            "Non-trainable params: 0\n",
            "_________________________________________________________________\n"
          ],
          "name": "stdout"
        }
      ]
    },
    {
      "cell_type": "code",
      "metadata": {
        "id": "YQYCPt6_2hwM",
        "outputId": "1efa9602-b53d-49eb-c1ed-01a7ab5216dd",
        "colab": {
          "base_uri": "https://localhost:8080/"
        }
      },
      "source": [
        "model1.fit(X, y, epochs=20, batch_size=150, verbose=2)"
      ],
      "execution_count": null,
      "outputs": [
        {
          "output_type": "stream",
          "text": [
            "Epoch 1/20\n",
            "1334/1334 - 7s - loss: 0.5499 - accuracy: 0.7638\n",
            "Epoch 2/20\n",
            "1334/1334 - 8s - loss: 0.4392 - accuracy: 0.8014\n",
            "Epoch 3/20\n",
            "1334/1334 - 8s - loss: 0.4231 - accuracy: 0.8032\n",
            "Epoch 4/20\n",
            "1334/1334 - 8s - loss: 0.4177 - accuracy: 0.8044\n",
            "Epoch 5/20\n",
            "1334/1334 - 7s - loss: 0.4152 - accuracy: 0.8043\n",
            "Epoch 6/20\n",
            "1334/1334 - 7s - loss: 0.4136 - accuracy: 0.8050\n",
            "Epoch 7/20\n",
            "1334/1334 - 7s - loss: 0.4124 - accuracy: 0.8048\n",
            "Epoch 8/20\n",
            "1334/1334 - 8s - loss: 0.4118 - accuracy: 0.8050\n",
            "Epoch 9/20\n",
            "1334/1334 - 8s - loss: 0.4112 - accuracy: 0.8049\n",
            "Epoch 10/20\n",
            "1334/1334 - 8s - loss: 0.4114 - accuracy: 0.8048\n",
            "Epoch 11/20\n",
            "1334/1334 - 8s - loss: 0.4108 - accuracy: 0.8051\n",
            "Epoch 12/20\n",
            "1334/1334 - 8s - loss: 0.4109 - accuracy: 0.8052\n",
            "Epoch 13/20\n",
            "1334/1334 - 8s - loss: 0.4104 - accuracy: 0.8057\n",
            "Epoch 14/20\n",
            "1334/1334 - 8s - loss: 0.4100 - accuracy: 0.8054\n",
            "Epoch 15/20\n",
            "1334/1334 - 8s - loss: 0.4102 - accuracy: 0.8057\n",
            "Epoch 16/20\n",
            "1334/1334 - 8s - loss: 0.4102 - accuracy: 0.8055\n",
            "Epoch 17/20\n",
            "1334/1334 - 8s - loss: 0.4107 - accuracy: 0.8050\n",
            "Epoch 18/20\n",
            "1334/1334 - 8s - loss: 0.4102 - accuracy: 0.8053\n",
            "Epoch 19/20\n",
            "1334/1334 - 8s - loss: 0.4102 - accuracy: 0.8052\n",
            "Epoch 20/20\n",
            "1334/1334 - 7s - loss: 0.4106 - accuracy: 0.8050\n"
          ],
          "name": "stdout"
        },
        {
          "output_type": "execute_result",
          "data": {
            "text/plain": [
              "<tensorflow.python.keras.callbacks.History at 0x7f6b807e7d30>"
            ]
          },
          "metadata": {
            "tags": []
          },
          "execution_count": 24
        }
      ]
    },
    {
      "cell_type": "code",
      "metadata": {
        "id": "oYBzzoDaZOLk",
        "outputId": "73010db9-49a4-4bad-d940-fde706b860bd",
        "colab": {
          "base_uri": "https://localhost:8080/"
        }
      },
      "source": [
        "X_FM_lb[-20].shape"
      ],
      "execution_count": null,
      "outputs": [
        {
          "output_type": "execute_result",
          "data": {
            "text/plain": [
              "(4999, 2, 1)"
            ]
          },
          "metadata": {
            "tags": []
          },
          "execution_count": 25
        }
      ]
    },
    {
      "cell_type": "code",
      "metadata": {
        "id": "F5HooG0HW2ld",
        "outputId": "9627a1ea-5b75-4491-974b-56892ab9127c",
        "colab": {
          "base_uri": "https://localhost:8080/",
          "height": 960
        }
      },
      "source": [
        "pd_FM = {}\n",
        "\n",
        "for snr in range(-20, 6, 2):\n",
        "  y_snr = np.ones((X_FM_lb[snr].shape[0], 1))\n",
        "  #y_snr = y_snr.reshape(4999,1)\n",
        "  scores = model1.evaluate(X_FM_lb[snr], y_snr)\n",
        "  print(\"At SNR = \" + str(snr) + \"\\n%s: %.2f%%\" % (model1.metrics_names[1], scores[1]*100))\n",
        "  pd_FM[snr] = scores[1]\n",
        "  \n",
        "plt.plot(range(-20, 6, 2), list(pd_FM.values()),color ='tab:orange')\n"
      ],
      "execution_count": null,
      "outputs": [
        {
          "output_type": "stream",
          "text": [
            "157/157 [==============================] - 0s 2ms/step - loss: 1.2745 - accuracy: 0.0862\n",
            "At SNR = -20\n",
            "accuracy: 8.62%\n",
            "157/157 [==============================] - 0s 2ms/step - loss: 1.2507 - accuracy: 0.0996\n",
            "At SNR = -18\n",
            "accuracy: 9.96%\n",
            "157/157 [==============================] - 0s 2ms/step - loss: 1.2245 - accuracy: 0.1100\n",
            "At SNR = -16\n",
            "accuracy: 11.00%\n",
            "157/157 [==============================] - 0s 2ms/step - loss: 1.1705 - accuracy: 0.1446\n",
            "At SNR = -14\n",
            "accuracy: 14.46%\n",
            "157/157 [==============================] - 0s 2ms/step - loss: 1.0558 - accuracy: 0.2150\n",
            "At SNR = -12\n",
            "accuracy: 21.50%\n",
            "157/157 [==============================] - 0s 2ms/step - loss: 0.9204 - accuracy: 0.3277\n",
            "At SNR = -10\n",
            "accuracy: 32.77%\n",
            "157/157 [==============================] - 0s 2ms/step - loss: 0.6910 - accuracy: 0.5289\n",
            "At SNR = -8\n",
            "accuracy: 52.89%\n",
            "157/157 [==============================] - 0s 2ms/step - loss: 0.4089 - accuracy: 0.7522\n",
            "At SNR = -6\n",
            "accuracy: 75.22%\n",
            "375/375 [==============================] - 1s 2ms/step - loss: 0.1915 - accuracy: 0.8888\n",
            "At SNR = -4\n",
            "accuracy: 88.88%\n",
            "375/375 [==============================] - 1s 2ms/step - loss: 0.0988 - accuracy: 0.9377\n",
            "At SNR = -2\n",
            "accuracy: 93.77%\n",
            "375/375 [==============================] - 1s 2ms/step - loss: 0.0592 - accuracy: 0.9619\n",
            "At SNR = 0\n",
            "accuracy: 96.19%\n",
            "375/375 [==============================] - 1s 2ms/step - loss: 0.0308 - accuracy: 0.9818\n",
            "At SNR = 2\n",
            "accuracy: 98.18%\n",
            "375/375 [==============================] - 1s 2ms/step - loss: 0.0165 - accuracy: 0.9913\n",
            "At SNR = 4\n",
            "accuracy: 99.13%\n"
          ],
          "name": "stdout"
        },
        {
          "output_type": "execute_result",
          "data": {
            "text/plain": [
              "[<matplotlib.lines.Line2D at 0x7f6b8e063f28>]"
            ]
          },
          "metadata": {
            "tags": []
          },
          "execution_count": 26
        },
        {
          "output_type": "display_data",
          "data": {
            "image/png": "[encoded data removed]",
            "text/plain": [
              "<Figure size 432x288 with 1 Axes>"
            ]
          },
          "metadata": {
            "tags": [],
            "needs_background": "light"
          }
        }
      ]
    },
    {
      "cell_type": "code",
      "metadata": {
        "id": "Uz9hLvbzE-x0"
      },
      "source": [
        ""
      ],
      "execution_count": null,
      "outputs": []
    }
  ]
}